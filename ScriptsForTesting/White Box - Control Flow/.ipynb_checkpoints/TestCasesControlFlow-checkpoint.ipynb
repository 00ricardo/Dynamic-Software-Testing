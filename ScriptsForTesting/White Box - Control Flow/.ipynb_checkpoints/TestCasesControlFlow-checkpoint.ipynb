{
 "cells": [
  {
   "cell_type": "code",
   "execution_count": 3,
   "id": "0178c50e",
   "metadata": {},
   "outputs": [],
   "source": [
    "import os\n",
    "from random import random,randint, sample\n",
    "from operator import itemgetter\n",
    "\n",
    "\n",
    "# Simple [Binary] Evolutionary Algorithm\t\t\n",
    "def sea(numb_generations,size_pop, size_cromo, prob_mut,prob_cross,sel_parents,recombination,mutation,sel_survivors, fitness_func,universe,sets):\n",
    "    # inicialize population: indiv = (cromo,fit)\n",
    "    populacao = gera_pop(size_pop,size_cromo)\n",
    "    # evaluate population\n",
    "    populacao = [(indiv[0], fitness_func(universe,sets,indiv[0])) for indiv in populacao]\n",
    "    for i in range(numb_generations):\n",
    "        # sparents selection\n",
    "        mate_pool = sel_parents(populacao)\n",
    "\t# Variation\n",
    "\t# ------ Crossover\n",
    "        progenitores = []\n",
    "        for i in  range(0,size_pop-1,2):\n",
    "            indiv_1= mate_pool[i]\n",
    "            indiv_2 = mate_pool[i+1]\n",
    "            filhos = recombination(indiv_1,indiv_2, prob_cross)\n",
    "            progenitores.extend(filhos) \n",
    "        # ------ Mutation\n",
    "        descendentes = []\n",
    "        for indiv,fit in progenitores:\n",
    "            novo_indiv = mutation(indiv,prob_mut)\n",
    "            descendentes.append((novo_indiv,fitness_func(universe,sets,novo_indiv)))\n",
    "        # New population\n",
    "        populacao = sel_survivors(populacao,descendentes)\n",
    "        # Evaluate the new population\n",
    "        populacao = [(indiv[0], fitness_func(universe,sets,indiv[0])) for indiv in populacao]     \n",
    "    return best_pop(populacao)\n",
    "\n",
    "def best_pop(populacao):\n",
    "    populacao.sort(key=itemgetter(1),reverse=False)\n",
    "    return populacao[0]\n",
    "\n",
    "# Initialize population\n",
    "def gera_pop(size_pop,size_cromo):\n",
    "    return [(gera_indiv(size_cromo),0) for i in range(size_pop)]\n",
    "\n",
    "def gera_indiv(size_cromo):\n",
    "    # random initialization\n",
    "    indiv = [randint(0,1) for i in range(size_cromo)]\n",
    "    return indiv\n",
    "\n",
    "# Variation operators: Binary mutation\t    \n",
    "def muta_bin(indiv,prob_muta):\n",
    "    # Mutation by gene\n",
    "    cromo = indiv[:]\n",
    "    for i in range(len(indiv)):\n",
    "        cromo[i] = muta_bin_gene(cromo[i],prob_muta)\n",
    "    return cromo\n",
    "\n",
    "def muta_bin_gene(gene, prob_muta):\n",
    "    g = gene\n",
    "    value = random()\n",
    "    if value < prob_muta:\n",
    "        g ^= 1\n",
    "    return g\n",
    "\n",
    "# Variation Operators :Crossover\n",
    "def one_point_cross(indiv_1, indiv_2,prob_cross):\n",
    "\tvalue = random()\n",
    "\tif value < prob_cross:\n",
    "\t    cromo_1 = indiv_1[0]\n",
    "\t    cromo_2 = indiv_2[0]\n",
    "\t    pos = randint(0,len(cromo_1))\n",
    "\t    f1 = cromo_1[0:pos] + cromo_2[pos:]\n",
    "\t    f2 = cromo_2[0:pos] + cromo_1[pos:]\n",
    "\t    return ((f1,0),(f2,0))\n",
    "\telse:\n",
    "\t    return (indiv_1,indiv_2)\n",
    "\n",
    "# Parents Selection: tournament\n",
    "def tour_sel(t_size):\n",
    "    def tournament(pop):\n",
    "        size_pop= len(pop)\n",
    "        mate_pool = []\n",
    "        for i in range(size_pop):\n",
    "            winner = one_tour(pop,t_size)\n",
    "            mate_pool.append(winner)\n",
    "        return mate_pool\n",
    "    return tournament\n",
    "\n",
    "def one_tour(population,size):\n",
    "    \"\"\"Minimization Problem. Deterministic\"\"\"\n",
    "    pool = sample(population, size)\n",
    "    pool.sort(key=itemgetter(1), reverse=False)\n",
    "    return pool[0]\n",
    "\n",
    "# Survivals Selection: elitism\n",
    "def sel_survivors_elite(elite):\n",
    "    def elitism(parents,offspring):\n",
    "        size = len(parents)\n",
    "        comp_elite = int(size* elite)\n",
    "        offspring.sort(key=itemgetter(1), reverse=False)\n",
    "        parents.sort(key=itemgetter(1), reverse=False)\n",
    "        new_population = parents[:comp_elite] + offspring[:size - comp_elite]\n",
    "        return new_population\n",
    "    return elitism\n",
    "\n",
    "#receives the genotype and the sets and returns the phenotype solution\n",
    "def geno2pheno(genotype,sets):\n",
    "    phenotype = []\n",
    "    i=0\n",
    "    while i<len(genotype):\n",
    "        if(genotype[i]==1):\n",
    "            phenotype.append(sets[i])\n",
    "        i+=1\n",
    "    return phenotype\n",
    "\n",
    "#fitness function\n",
    "def fitness(universe,sets,solution):\n",
    "    alfa = 1\n",
    "    beta = 0.2\n",
    "    gama = 0.2\n",
    "    i=0\n",
    "    pheno = geno2pheno(solution,sets)\n",
    "    result = universe\n",
    "    while i<len(pheno):\n",
    "        result = [x for x in result if x not in pheno[i]]\n",
    "        i+=1\n",
    "    missing = len(result)\n",
    "\n",
    "    overlap = 0\n",
    "    i=0\n",
    "    while i<len(pheno)-1:\n",
    "        j=i+1\n",
    "        while j<len(pheno):\n",
    "            overlap += len(set(pheno[i]) & set(pheno[j]))\n",
    "            j+=1\n",
    "        i+=1\n",
    "    i=0\n",
    "\n",
    "    setSize = len(pheno)\n",
    "\n",
    "    fitnessValue = alfa*missing + beta*overlap + gama*setSize\n",
    "    return fitnessValue\n",
    "\n",
    "def displayResult(solution):\n",
    "    genotype = solution[0]\n",
    "    fitnessScore = solution[1]\n",
    "    phenotype = geno2pheno(genotype,sets)\n",
    "    print(\"Universe Size: %d\" % (len(universe)))\n",
    "    print(\"Fitness: %f\" % (fitnessScore))\n",
    "    print(\"Sets used:\")\n",
    "    i=0\n",
    "    while i<len(phenotype):\n",
    "        print(phenotype[i])\n",
    "        i+=1\n",
    "\n",
    "\n",
    "\n",
    "def readFile(filename):\n",
    "    #script_dir = os.path.dirname(__file__)\n",
    "    #rel_path = os.path.join(\"set_covering_data\",filename)\n",
    "    #abs_file_path = os.path.join(script_dir, rel_path)\n",
    "    #f = open(abs_file_path, 'r')\n",
    "    f = open(filename, 'r')\n",
    "    lines = f.readlines()\n",
    "    \n",
    "    setNum = lines[0].split()[0]\n",
    "    sets = []\n",
    "    universe = list(map(str,range(1, int(lines[0].split()[1])+1)))\n",
    "    i=2\n",
    "    while i<len(lines):\n",
    "        size = int(lines[i])\n",
    "        sets.append(lines[i+1].split())\n",
    "        i = i+2\n",
    "    f.close()\n",
    "    return universe,sets\n",
    "\n",
    "#if __name__ == '__main__':\n",
    "    #filename = \"a_5_10.txt\"\n",
    "    #num_generations = 100\n",
    "    #size_pop = 10\n",
    "    #prob_mut = 0.01\n",
    "    #prob_cross = 0.9\n",
    "    #tour_size = 3\n",
    "    #elitism = 0.02\n",
    "    \n",
    "    #universe, sets = readFile(filename)\n",
    "    #size_crom = len(sets)\n",
    "\n",
    "    #best = sea(num_generations, size_pop,size_crom,prob_mut,prob_cross,tour_sel(tour_size),one_point_cross,muta_bin,sel_survivors_elite(elitism), fitness,universe,sets)\n",
    "    #displayResult(best)   "
   ]
  },
  {
   "cell_type": "code",
   "execution_count": 4,
   "id": "dded696d",
   "metadata": {},
   "outputs": [],
   "source": [
    "#Imports\n",
    "import random as rnd"
   ]
  },
  {
   "cell_type": "markdown",
   "id": "763ed42a",
   "metadata": {},
   "source": [
    "## Control Flow Testing "
   ]
  },
  {
   "cell_type": "code",
   "execution_count": 5,
   "id": "926d52d8",
   "metadata": {},
   "outputs": [],
   "source": [
    "global filename, num_generations, size_pop, prob_mut, prob_cross, tour_size, elitism, universe, sets, size_crom\n",
    "\n",
    "filename = \"a_5_10.txt\"\n",
    "num_generations = 100\n",
    "size_pop = 10\n",
    "prob_mut = 0.01\n",
    "prob_cross = 0.9\n",
    "tour_size = 3\n",
    "elitism = 0.02\n",
    "\n",
    "universe, sets = readFile(filename)\n",
    "size_crom = len(sets)"
   ]
  },
  {
   "cell_type": "markdown",
   "id": "42dd7c06",
   "metadata": {},
   "source": [
    "### Test gera_pop"
   ]
  },
  {
   "cell_type": "code",
   "execution_count": 6,
   "id": "5a49aab5",
   "metadata": {},
   "outputs": [],
   "source": [
    "def test_gera_pop(test_names, list_size_pop, list_size_cromo):\n",
    "    i = 0\n",
    "    \n",
    "    for size_pop in list_size_pop:\n",
    "        rnd.seed(500)\n",
    "        \n",
    "        result = gera_pop(size_pop, list_size_cromo[i])\n",
    "        \n",
    "        print(test_names[i])\n",
    "        print(result)\n",
    "        i+=1"
   ]
  },
  {
   "cell_type": "code",
   "execution_count": 7,
   "id": "35e72a3f",
   "metadata": {},
   "outputs": [],
   "source": [
    "test_names = [\"P1\", \"P2\", \"P2_b\", \"P3\", \"P3_b\"]\n",
    "list_size_pop = [0, 1, 5, 1, 1]\n",
    "list_size_cromo = [0, 0, 0, 1, 5]"
   ]
  },
  {
   "cell_type": "code",
   "execution_count": 8,
   "id": "882ff201",
   "metadata": {},
   "outputs": [
    {
     "name": "stdout",
     "output_type": "stream",
     "text": [
      "P1\n",
      "[]\n",
      "P2\n",
      "[([], 0)]\n",
      "P2_b\n",
      "[([], 0), ([], 0), ([], 0), ([], 0), ([], 0)]\n",
      "P3\n",
      "[([1], 0)]\n",
      "P3_b\n",
      "[([1, 1, 1, 1, 0], 0)]\n"
     ]
    }
   ],
   "source": [
    "test_gera_pop(test_names, list_size_pop, list_size_cromo)"
   ]
  },
  {
   "cell_type": "markdown",
   "id": "f00f28d0",
   "metadata": {},
   "source": [
    "### Test muta_bin"
   ]
  },
  {
   "cell_type": "code",
   "execution_count": 9,
   "id": "73226bce",
   "metadata": {},
   "outputs": [],
   "source": [
    "def test_muta_bin(test_names, list_indiv, list_prob_muta):\n",
    "    i = 0\n",
    "    \n",
    "    for indiv in list_indiv:\n",
    "        rnd.seed(500)\n",
    "        \n",
    "        result = muta_bin(indiv, list_prob_muta[i])\n",
    "        \n",
    "        print(test_names[i])\n",
    "        print(result)\n",
    "        i+=1"
   ]
  },
  {
   "cell_type": "code",
   "execution_count": 10,
   "id": "8a86295d",
   "metadata": {},
   "outputs": [],
   "source": [
    "test_names = [\"P1\", \"P2\", \"P2_b\", \"P3\"]\n",
    "list_indiv = [ [], [1], [1, 1, 1, 1, 1], [1] ]\n",
    "list_prob_muta = [0.01, 0.01, 0.01, 0.9]"
   ]
  },
  {
   "cell_type": "code",
   "execution_count": 11,
   "id": "2ad2883f",
   "metadata": {},
   "outputs": [
    {
     "name": "stdout",
     "output_type": "stream",
     "text": [
      "P1\n",
      "[]\n",
      "P2\n",
      "[1]\n",
      "P2_b\n",
      "[1, 1, 1, 1, 1]\n",
      "P3\n",
      "[0]\n"
     ]
    }
   ],
   "source": [
    "test_muta_bin(test_names, list_indiv, list_prob_muta)"
   ]
  },
  {
   "cell_type": "markdown",
   "id": "d0bb1318",
   "metadata": {},
   "source": [
    "### Test fitness"
   ]
  },
  {
   "cell_type": "code",
   "execution_count": 12,
   "id": "649fecda",
   "metadata": {},
   "outputs": [],
   "source": [
    "def test_fitness(test_names, list_universe, list_sets, list_solution):\n",
    "    i = 0\n",
    "    \n",
    "    for universe in list_universe:\n",
    "        rnd.seed(500)\n",
    "        \n",
    "        result = fitness(universe, list_sets[i], list_solution[i])\n",
    "        \n",
    "        print(test_names[i])\n",
    "        print(result)\n",
    "        i+=1"
   ]
  },
  {
   "cell_type": "code",
   "execution_count": 13,
   "id": "84d98a8c",
   "metadata": {},
   "outputs": [],
   "source": [
    "test_names = [\"P1\", \"P3\", \"P3_b\", \"P4\", \"P4_b\", \"P5\", \"P6\"]\n",
    "list_universe = [ [], [], [], [1], [1, 2, 3, 4, 5], [1, 2], [] ]\n",
    "list_sets = [ [], [ [], [] ], [ [], [], [], [], [], [] ], [ [1] ], [ [1, 2, 3, 4, 5] ], [ [2], [1] ], [] ]\n",
    "list_solution = [ [], [1, 1], [1, 1, 1, 1, 1, 1], [1], [1], [1, 0], [0] ]"
   ]
  },
  {
   "cell_type": "code",
   "execution_count": 14,
   "id": "6ea3157b",
   "metadata": {},
   "outputs": [
    {
     "name": "stdout",
     "output_type": "stream",
     "text": [
      "P1\n",
      "0.0\n",
      "P3\n",
      "0.4\n",
      "P3_b\n",
      "1.2000000000000002\n",
      "P4\n",
      "0.2\n",
      "P4_b\n",
      "0.2\n",
      "P5\n",
      "1.2\n",
      "P6\n",
      "0.0\n"
     ]
    }
   ],
   "source": [
    "test_fitness(test_names, list_universe, list_sets, list_solution)"
   ]
  },
  {
   "cell_type": "code",
   "execution_count": null,
   "id": "6ae45f5d",
   "metadata": {},
   "outputs": [],
   "source": []
  }
 ],
 "metadata": {
  "kernelspec": {
   "display_name": "Python 3",
   "language": "python",
   "name": "python3"
  },
  "language_info": {
   "codemirror_mode": {
    "name": "ipython",
    "version": 3
   },
   "file_extension": ".py",
   "mimetype": "text/x-python",
   "name": "python",
   "nbconvert_exporter": "python",
   "pygments_lexer": "ipython3",
   "version": "3.7.3"
  }
 },
 "nbformat": 4,
 "nbformat_minor": 5
}
